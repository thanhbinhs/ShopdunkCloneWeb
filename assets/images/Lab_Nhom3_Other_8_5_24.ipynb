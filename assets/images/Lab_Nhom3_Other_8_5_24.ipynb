{
  "nbformat": 4,
  "nbformat_minor": 0,
  "metadata": {
    "colab": {
      "provenance": []
    },
    "kernelspec": {
      "name": "python3",
      "display_name": "Python 3"
    },
    "language_info": {
      "name": "python"
    }
  },
  "cells": [
    {
      "cell_type": "markdown",
      "source": [
        "v2.RandomHorizontalFlip([p])\n",
        "\n",
        "Horizontally flip the input with a given probability.\n",
        "\n",
        "v2.RandomVerticalFlip([p])\n",
        "\n",
        "Vertically flip the input with a given probability.\n",
        "\n",
        "v2.Pad(padding[, fill, padding_mode])\n",
        "\n",
        "Pad the input on all sides with the given \"pad\" value.\n",
        "\n",
        "v2.RandomZoomOut([fill, side_range, p])\n",
        "\n",
        "\"Zoom out\" transformation from \"SSD: Single Shot MultiBox Detector\".\n",
        "\n",
        "v2.RandomRotation(degrees[, interpolation, ...])\n",
        "\n",
        "Rotate the input by angle.\n",
        "\n",
        "v2.RandomAffine(degrees[, translate, scale, ...])\n",
        "\n",
        "Random affine transformation the input keeping center invariant.\n",
        "\n",
        "v2.RandomPerspective([distortion_scale, p, ...])\n",
        "\n",
        "Perform a random perspective transformation of the input with a given probability.\n",
        "\n",
        "v2.ElasticTransform([alpha, sigma, ...])\n",
        "\n",
        "Transform the input with elastic transformations."
      ],
      "metadata": {
        "id": "fwDmFkyVRzB4"
      }
    },
    {
      "cell_type": "code",
      "execution_count": 18,
      "metadata": {
        "colab": {
          "base_uri": "https://localhost:8080/"
        },
        "id": "EmXgqcbWQmfB",
        "outputId": "6d8fcc64-edf8-47c4-a21b-b48b869e0aaf"
      },
      "outputs": [
        {
          "output_type": "execute_result",
          "data": {
            "text/plain": [
              "Resize(size=(256, 256), interpolation=bilinear, max_size=4, antialias=True)"
            ]
          },
          "metadata": {},
          "execution_count": 18
        }
      ],
      "source": [
        "import torch\n",
        "import torchvision\n",
        "from torchvision import datasets, transforms\n",
        "from torch.utils.data import DataLoader\n",
        "\n",
        "# Define a list of data augmentation techniques\n",
        "\n",
        "transform_list = [\n",
        "    # transforms.RandomResizedCrop(256),  # Randomly crop the image and resize it to 256x256\n",
        "    transforms.RandomHorizontalFlip(),  # Randomly flip the image horizontally\n",
        "    transforms.RandomVerticalFlip([0.5]), # Vertically flip the input with a given probability.\n",
        "    transforms.Pad(10, fill=0, padding_mode='constant'),\n",
        "    transforms.RandomRotation(20),      # Randomly rotate the image by a maximum of 20 degrees\n",
        "    transforms.RandomAffine(degrees=(-10, 10), translate=(0.1, 0.1), scale=(0.9, 1.1)),\n",
        "    transforms.RandomPerspective(distortion_scale=0.6, p=0.7),\n",
        "    transforms.ToTensor()\n",
        "]\n",
        "\n",
        "\n",
        "torchvision.transforms.Resize(size = (256,256),\n",
        "\t#interpolation: Union[InterpolationMode, int] = InterpolationMode.BILINEAR,\n",
        "  max_size= 4)"
      ]
    },
    {
      "cell_type": "code",
      "source": [
        "# import torch\n",
        "# import torchvision\n",
        "# from torchvision.transforms import v2\n",
        "# from torch.utils.data import DataLoader\n",
        "\n",
        "# # Define a list of data augmentation techniques\n",
        "\n",
        "# transform_list = [\n",
        "#     # transforms.RandomResizedCrop(256),  # Randomly crop the image and resize it to 256x256\n",
        "#     v2.RandomHorizontalFlip(),  # Randomly flip the image horizontally\n",
        "#     # v2.RandomVerticalFlip([0.5]), # Vertically flip the input with a given probability.\n",
        "#     v2.Pad(10, fill=0, padding_mode='constant'),\n",
        "#     v2.RandomRotation(20),      # Randomly rotate the image by a maximum of 20 degrees\n",
        "#     v2.RandomAffine(degrees=(-10, 10), translate=(0.1, 0.1), scale=(0.9, 1.1)),\n",
        "#     v2.RandomPerspective(distortion_scale=0.6, p=0.7),\n",
        "#     v2.ToTensor()\n",
        "# ]\n",
        "\n",
        "\n",
        "# torchvision.v2.Resize(size = (256,256),\n",
        "# \t#interpolation: Union[InterpolationMode, int] = InterpolationMode.BILINEAR,\n",
        "#   max_size= 4)"
      ],
      "metadata": {
        "colab": {
          "base_uri": "https://localhost:8080/",
          "height": 265
        },
        "id": "KE5zNollRdG1",
        "outputId": "b65bf9d1-4a88-48f4-cf11-244a23f09302"
      },
      "execution_count": 21,
      "outputs": [
        {
          "output_type": "stream",
          "name": "stderr",
          "text": [
            "/usr/local/lib/python3.10/dist-packages/torchvision/transforms/v2/_deprecated.py:41: UserWarning: The transform `ToTensor()` is deprecated and will be removed in a future release. Instead, please use `v2.Compose([v2.ToImage(), v2.ToDtype(torch.float32, scale=True)])`.\n",
            "  warnings.warn(\n"
          ]
        },
        {
          "output_type": "error",
          "ename": "AttributeError",
          "evalue": "module 'torchvision' has no attribute 'v2'",
          "traceback": [
            "\u001b[0;31m---------------------------------------------------------------------------\u001b[0m",
            "\u001b[0;31mAttributeError\u001b[0m                            Traceback (most recent call last)",
            "\u001b[0;32m<ipython-input-21-d7ae2c5009a1>\u001b[0m in \u001b[0;36m<cell line: 20>\u001b[0;34m()\u001b[0m\n\u001b[1;32m     18\u001b[0m \u001b[0;34m\u001b[0m\u001b[0m\n\u001b[1;32m     19\u001b[0m \u001b[0;34m\u001b[0m\u001b[0m\n\u001b[0;32m---> 20\u001b[0;31m torchvision.v2.Resize(size = (256,256), \n\u001b[0m\u001b[1;32m     21\u001b[0m         \u001b[0;31m#interpolation: Union[InterpolationMode, int] = InterpolationMode.BILINEAR,\u001b[0m\u001b[0;34m\u001b[0m\u001b[0;34m\u001b[0m\u001b[0m\n\u001b[1;32m     22\u001b[0m   max_size= 4)\n",
            "\u001b[0;31mAttributeError\u001b[0m: module 'torchvision' has no attribute 'v2'"
          ]
        }
      ]
    },
    {
      "cell_type": "code",
      "source": [],
      "metadata": {
        "id": "mon82FyDRdJ3"
      },
      "execution_count": null,
      "outputs": []
    },
    {
      "cell_type": "code",
      "source": [],
      "metadata": {
        "id": "Q96V2SuJRdMg"
      },
      "execution_count": null,
      "outputs": []
    },
    {
      "cell_type": "code",
      "source": [],
      "metadata": {
        "id": "3al9_ucWRdPQ"
      },
      "execution_count": null,
      "outputs": []
    }
  ]
}